{
 "cells": [
  {
   "cell_type": "markdown",
   "id": "bb0223b6",
   "metadata": {},
   "source": [
    "# OOP - Object-Oriented Programming"
   ]
  },
  {
   "cell_type": "code",
   "execution_count": 1,
   "id": "2217e38c",
   "metadata": {},
   "outputs": [],
   "source": [
    "class Employee:\n",
    "    salary = 350000"
   ]
  },
  {
   "cell_type": "code",
   "execution_count": 2,
   "id": "21400cf0",
   "metadata": {},
   "outputs": [
    {
     "name": "stdout",
     "output_type": "stream",
     "text": [
      "350000\n"
     ]
    }
   ],
   "source": [
    "kemi = Employee()\n",
    "print(kemi.salary)"
   ]
  },
  {
   "cell_type": "code",
   "execution_count": 4,
   "id": "ab68d57d",
   "metadata": {},
   "outputs": [
    {
     "data": {
      "text/plain": [
       "350000"
      ]
     },
     "execution_count": 4,
     "metadata": {},
     "output_type": "execute_result"
    }
   ],
   "source": [
    "kemi.salary"
   ]
  },
  {
   "cell_type": "code",
   "execution_count": 26,
   "id": "f006cde9",
   "metadata": {},
   "outputs": [],
   "source": [
    "class Employee:\n",
    "    def __init__(self, name, age, salary, position, department, marital_status): # placeholder\n",
    "        self.name = name\n",
    "        self.age = age\n",
    "        self.salary = salary\n",
    "        self.position = position\n",
    "        self.department = department\n",
    "        self.marital_status = marital_status #self age is attribute\n",
    "\n",
    "    def add_age(self):\n",
    "        self.age += 1\n",
    "\n",
    "    def get_age(self):\n",
    "        return \"Age is {}\". format(self.age)"
   ]
  },
  {
   "cell_type": "code",
   "execution_count": 27,
   "id": "635e0e72",
   "metadata": {},
   "outputs": [],
   "source": [
    "staff_1 = Employee(\"Kemi\", 25, 500000, \"Manager\", \"Finance\", \"Married\")"
   ]
  },
  {
   "cell_type": "code",
   "execution_count": 28,
   "id": "b487fd40",
   "metadata": {},
   "outputs": [
    {
     "data": {
      "text/plain": [
       "'Kemi'"
      ]
     },
     "execution_count": 28,
     "metadata": {},
     "output_type": "execute_result"
    }
   ],
   "source": [
    "staff_1.name"
   ]
  },
  {
   "cell_type": "code",
   "execution_count": 29,
   "id": "e1c38159",
   "metadata": {},
   "outputs": [],
   "source": [
    "staff_2 = Employee(\"Chris\", 32, 100000, \"Associate\", \"HR\", \"Single\")"
   ]
  },
  {
   "cell_type": "code",
   "execution_count": 30,
   "id": "5ccf4e4c",
   "metadata": {},
   "outputs": [
    {
     "data": {
      "text/plain": [
       "'Chris'"
      ]
     },
     "execution_count": 30,
     "metadata": {},
     "output_type": "execute_result"
    }
   ],
   "source": [
    "staff_2.name"
   ]
  },
  {
   "cell_type": "code",
   "execution_count": 31,
   "id": "37d385c6",
   "metadata": {},
   "outputs": [
    {
     "data": {
      "text/plain": [
       "33"
      ]
     },
     "execution_count": 31,
     "metadata": {},
     "output_type": "execute_result"
    }
   ],
   "source": [
    "staff_2.add_age()\n",
    "staff_2.age"
   ]
  },
  {
   "cell_type": "markdown",
   "id": "923b4bc5",
   "metadata": {},
   "source": [
    "#### Encapsalution"
   ]
  },
  {
   "cell_type": "code",
   "execution_count": 44,
   "id": "20b983fa",
   "metadata": {},
   "outputs": [],
   "source": [
    "class Sports:\n",
    "    def __init__(self):\n",
    "        self.__sportsName = \"Soccer\"\n",
    "        \n",
    "    def game(self):\n",
    "        print(\"The game is: {}\".format(self.__sportsName))\n",
    "        \n",
    "    def change_name(self, name):\n",
    "        self.__sportsName = name"
   ]
  },
  {
   "cell_type": "code",
   "execution_count": 40,
   "id": "e538b771",
   "metadata": {},
   "outputs": [
    {
     "name": "stdout",
     "output_type": "stream",
     "text": [
      "The game is: Soccer\n"
     ]
    }
   ],
   "source": [
    "s = Sports()\n",
    "s.game()"
   ]
  },
  {
   "cell_type": "code",
   "execution_count": 43,
   "id": "87c01aa3",
   "metadata": {},
   "outputs": [
    {
     "name": "stdout",
     "output_type": "stream",
     "text": [
      "The game is: Hockey\n"
     ]
    }
   ],
   "source": [
    "s.change_name('Hockey')\n",
    "s.game()"
   ]
  },
  {
   "cell_type": "code",
   "execution_count": null,
   "id": "90df3bf7",
   "metadata": {},
   "outputs": [],
   "source": []
  }
 ],
 "metadata": {
  "kernelspec": {
   "display_name": "Python 3 (ipykernel)",
   "language": "python",
   "name": "python3"
  },
  "language_info": {
   "codemirror_mode": {
    "name": "ipython",
    "version": 3
   },
   "file_extension": ".py",
   "mimetype": "text/x-python",
   "name": "python",
   "nbconvert_exporter": "python",
   "pygments_lexer": "ipython3",
   "version": "3.9.12"
  }
 },
 "nbformat": 4,
 "nbformat_minor": 5
}
